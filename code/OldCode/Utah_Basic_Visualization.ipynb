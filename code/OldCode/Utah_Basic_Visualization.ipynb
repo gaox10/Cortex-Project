{
 "cells": [
  {
   "cell_type": "code",
   "execution_count": 9,
   "metadata": {},
   "outputs": [],
   "source": [
    "import pandas as pd\n",
    "import matplotlib.pyplot as plt\n",
    "import pylab \n",
    "import scipy.stats as stats\n",
    "data = pd.read_json(\"visit_utah_updated_01_19.json\")"
   ]
  },
  {
   "cell_type": "code",
   "execution_count": 10,
   "metadata": {},
   "outputs": [
    {
     "data": {
      "text/html": [
       "<div>\n",
       "<style scoped>\n",
       "    .dataframe tbody tr th:only-of-type {\n",
       "        vertical-align: middle;\n",
       "    }\n",
       "\n",
       "    .dataframe tbody tr th {\n",
       "        vertical-align: top;\n",
       "    }\n",
       "\n",
       "    .dataframe thead th {\n",
       "        text-align: right;\n",
       "    }\n",
       "</style>\n",
       "<table border=\"1\" class=\"dataframe\">\n",
       "  <thead>\n",
       "    <tr style=\"text-align: right;\">\n",
       "      <th></th>\n",
       "      <th>extCreatedAt</th>\n",
       "      <th>extPostId</th>\n",
       "      <th>metadata</th>\n",
       "      <th>nComments</th>\n",
       "      <th>nFollowers</th>\n",
       "      <th>nLikes</th>\n",
       "      <th>pageName</th>\n",
       "      <th>postLink</th>\n",
       "      <th>rawText</th>\n",
       "    </tr>\n",
       "  </thead>\n",
       "  <tbody>\n",
       "    <tr>\n",
       "      <th>0</th>\n",
       "      <td>2019-01-29T01:24:36.000Z</td>\n",
       "      <td>1967170976682576484</td>\n",
       "      <td>{'language': 'en', 'keywords': ['production', ...</td>\n",
       "      <td>18</td>\n",
       "      <td>86200</td>\n",
       "      <td>1927</td>\n",
       "      <td>visitutah</td>\n",
       "      <td>https://instagram.com/p/BtMy5Stn4pk</td>\n",
       "      <td>#SaltLakeCity is a major production hub for so...</td>\n",
       "    </tr>\n",
       "    <tr>\n",
       "      <th>1</th>\n",
       "      <td>2019-01-26T18:45:56.000Z</td>\n",
       "      <td>1965520773869116669</td>\n",
       "      <td>{'language': 'en', 'keywords': ['winter', 'rel...</td>\n",
       "      <td>160</td>\n",
       "      <td>85978</td>\n",
       "      <td>14462</td>\n",
       "      <td>visitutah</td>\n",
       "      <td>https://instagram.com/p/BtG7rrlHpz9</td>\n",
       "      <td>Winter relaxation at another level. #VisitUtah...</td>\n",
       "    </tr>\n",
       "    <tr>\n",
       "      <th>2</th>\n",
       "      <td>2019-01-25T19:53:28.000Z</td>\n",
       "      <td>1964829982460857211</td>\n",
       "      <td>{'language': 'en', 'keywords': ['locations', '...</td>\n",
       "      <td>42</td>\n",
       "      <td>85929</td>\n",
       "      <td>4336</td>\n",
       "      <td>visitutah</td>\n",
       "      <td>https://instagram.com/p/BtEenV8nct7</td>\n",
       "      <td>The 2019 #Sundance Film Festival is here! Foll...</td>\n",
       "    </tr>\n",
       "    <tr>\n",
       "      <th>3</th>\n",
       "      <td>2019-01-24T20:22:12.000Z</td>\n",
       "      <td>1964119669361014177</td>\n",
       "      <td>{'language': 'en', 'keywords': ['ready'], 'has...</td>\n",
       "      <td>16</td>\n",
       "      <td>85857</td>\n",
       "      <td>9191</td>\n",
       "      <td>visitutah</td>\n",
       "      <td>https://instagram.com/p/BtB9G7UnvWh</td>\n",
       "      <td>We're ready for you, #Sundance. #VisitUtah</td>\n",
       "    </tr>\n",
       "    <tr>\n",
       "      <th>4</th>\n",
       "      <td>2019-01-23T02:24:55.000Z</td>\n",
       "      <td>1962852679132515004</td>\n",
       "      <td>{'language': 'en', 'keywords': ['powder', 'wee...</td>\n",
       "      <td>49</td>\n",
       "      <td>85787</td>\n",
       "      <td>21375</td>\n",
       "      <td>visitutah</td>\n",
       "      <td>https://instagram.com/p/Bs9dByuHgq8</td>\n",
       "      <td>A sign that it's time for aprÃ¨s-ski after an ...</td>\n",
       "    </tr>\n",
       "  </tbody>\n",
       "</table>\n",
       "</div>"
      ],
      "text/plain": [
       "               extCreatedAt            extPostId  \\\n",
       "0  2019-01-29T01:24:36.000Z  1967170976682576484   \n",
       "1  2019-01-26T18:45:56.000Z  1965520773869116669   \n",
       "2  2019-01-25T19:53:28.000Z  1964829982460857211   \n",
       "3  2019-01-24T20:22:12.000Z  1964119669361014177   \n",
       "4  2019-01-23T02:24:55.000Z  1962852679132515004   \n",
       "\n",
       "                                            metadata  nComments  nFollowers  \\\n",
       "0  {'language': 'en', 'keywords': ['production', ...         18       86200   \n",
       "1  {'language': 'en', 'keywords': ['winter', 'rel...        160       85978   \n",
       "2  {'language': 'en', 'keywords': ['locations', '...         42       85929   \n",
       "3  {'language': 'en', 'keywords': ['ready'], 'has...         16       85857   \n",
       "4  {'language': 'en', 'keywords': ['powder', 'wee...         49       85787   \n",
       "\n",
       "   nLikes   pageName                             postLink  \\\n",
       "0    1927  visitutah  https://instagram.com/p/BtMy5Stn4pk   \n",
       "1   14462  visitutah  https://instagram.com/p/BtG7rrlHpz9   \n",
       "2    4336  visitutah  https://instagram.com/p/BtEenV8nct7   \n",
       "3    9191  visitutah  https://instagram.com/p/BtB9G7UnvWh   \n",
       "4   21375  visitutah  https://instagram.com/p/Bs9dByuHgq8   \n",
       "\n",
       "                                             rawText  \n",
       "0  #SaltLakeCity is a major production hub for so...  \n",
       "1  Winter relaxation at another level. #VisitUtah...  \n",
       "2  The 2019 #Sundance Film Festival is here! Foll...  \n",
       "3         We're ready for you, #Sundance. #VisitUtah  \n",
       "4  A sign that it's time for aprÃ¨s-ski after an ...  "
      ]
     },
     "execution_count": 10,
     "metadata": {},
     "output_type": "execute_result"
    }
   ],
   "source": [
    "data.head()"
   ]
  },
  {
   "cell_type": "code",
   "execution_count": 11,
   "metadata": {},
   "outputs": [
    {
     "data": {
      "text/html": [
       "<div>\n",
       "<style scoped>\n",
       "    .dataframe tbody tr th:only-of-type {\n",
       "        vertical-align: middle;\n",
       "    }\n",
       "\n",
       "    .dataframe tbody tr th {\n",
       "        vertical-align: top;\n",
       "    }\n",
       "\n",
       "    .dataframe thead th {\n",
       "        text-align: right;\n",
       "    }\n",
       "</style>\n",
       "<table border=\"1\" class=\"dataframe\">\n",
       "  <thead>\n",
       "    <tr style=\"text-align: right;\">\n",
       "      <th></th>\n",
       "      <th>extPostId</th>\n",
       "      <th>nComments</th>\n",
       "      <th>nFollowers</th>\n",
       "      <th>nLikes</th>\n",
       "    </tr>\n",
       "  </thead>\n",
       "  <tbody>\n",
       "    <tr>\n",
       "      <th>count</th>\n",
       "      <td>4.450000e+02</td>\n",
       "      <td>445.000000</td>\n",
       "      <td>445.000000</td>\n",
       "      <td>445.000000</td>\n",
       "    </tr>\n",
       "    <tr>\n",
       "      <th>mean</th>\n",
       "      <td>1.631001e+18</td>\n",
       "      <td>21.058427</td>\n",
       "      <td>65392.408989</td>\n",
       "      <td>3022.656180</td>\n",
       "    </tr>\n",
       "    <tr>\n",
       "      <th>std</th>\n",
       "      <td>1.716312e+17</td>\n",
       "      <td>23.389499</td>\n",
       "      <td>13701.284561</td>\n",
       "      <td>6326.906868</td>\n",
       "    </tr>\n",
       "    <tr>\n",
       "      <th>min</th>\n",
       "      <td>1.395400e+18</td>\n",
       "      <td>0.000000</td>\n",
       "      <td>0.000000</td>\n",
       "      <td>402.000000</td>\n",
       "    </tr>\n",
       "    <tr>\n",
       "      <th>25%</th>\n",
       "      <td>1.489289e+18</td>\n",
       "      <td>8.000000</td>\n",
       "      <td>55154.000000</td>\n",
       "      <td>1306.000000</td>\n",
       "    </tr>\n",
       "    <tr>\n",
       "      <th>50%</th>\n",
       "      <td>1.584500e+18</td>\n",
       "      <td>14.000000</td>\n",
       "      <td>65705.000000</td>\n",
       "      <td>1784.000000</td>\n",
       "    </tr>\n",
       "    <tr>\n",
       "      <th>75%</th>\n",
       "      <td>1.772617e+18</td>\n",
       "      <td>26.000000</td>\n",
       "      <td>76943.000000</td>\n",
       "      <td>2586.000000</td>\n",
       "    </tr>\n",
       "    <tr>\n",
       "      <th>max</th>\n",
       "      <td>1.967171e+18</td>\n",
       "      <td>283.000000</td>\n",
       "      <td>86200.000000</td>\n",
       "      <td>85484.000000</td>\n",
       "    </tr>\n",
       "  </tbody>\n",
       "</table>\n",
       "</div>"
      ],
      "text/plain": [
       "          extPostId   nComments    nFollowers        nLikes\n",
       "count  4.450000e+02  445.000000    445.000000    445.000000\n",
       "mean   1.631001e+18   21.058427  65392.408989   3022.656180\n",
       "std    1.716312e+17   23.389499  13701.284561   6326.906868\n",
       "min    1.395400e+18    0.000000      0.000000    402.000000\n",
       "25%    1.489289e+18    8.000000  55154.000000   1306.000000\n",
       "50%    1.584500e+18   14.000000  65705.000000   1784.000000\n",
       "75%    1.772617e+18   26.000000  76943.000000   2586.000000\n",
       "max    1.967171e+18  283.000000  86200.000000  85484.000000"
      ]
     },
     "execution_count": 11,
     "metadata": {},
     "output_type": "execute_result"
    }
   ],
   "source": [
    "summary = data.describe()\n",
    "summary"
   ]
  },
  {
   "cell_type": "code",
   "execution_count": 12,
   "metadata": {},
   "outputs": [
    {
     "data": {
      "text/html": [
       "<div>\n",
       "<style scoped>\n",
       "    .dataframe tbody tr th:only-of-type {\n",
       "        vertical-align: middle;\n",
       "    }\n",
       "\n",
       "    .dataframe tbody tr th {\n",
       "        vertical-align: top;\n",
       "    }\n",
       "\n",
       "    .dataframe thead th {\n",
       "        text-align: right;\n",
       "    }\n",
       "</style>\n",
       "<table border=\"1\" class=\"dataframe\">\n",
       "  <thead>\n",
       "    <tr style=\"text-align: right;\">\n",
       "      <th></th>\n",
       "      <th>count</th>\n",
       "      <th>mean</th>\n",
       "      <th>std</th>\n",
       "      <th>min</th>\n",
       "      <th>25%</th>\n",
       "      <th>50%</th>\n",
       "      <th>75%</th>\n",
       "      <th>max</th>\n",
       "    </tr>\n",
       "  </thead>\n",
       "  <tbody>\n",
       "    <tr>\n",
       "      <th>extPostId</th>\n",
       "      <td>445.0</td>\n",
       "      <td>1.631001e+18</td>\n",
       "      <td>1.716312e+17</td>\n",
       "      <td>1.395400e+18</td>\n",
       "      <td>1.489289e+18</td>\n",
       "      <td>1.584500e+18</td>\n",
       "      <td>1.772617e+18</td>\n",
       "      <td>1.967171e+18</td>\n",
       "    </tr>\n",
       "    <tr>\n",
       "      <th>nComments</th>\n",
       "      <td>445.0</td>\n",
       "      <td>2.105843e+01</td>\n",
       "      <td>2.338950e+01</td>\n",
       "      <td>0.000000e+00</td>\n",
       "      <td>8.000000e+00</td>\n",
       "      <td>1.400000e+01</td>\n",
       "      <td>2.600000e+01</td>\n",
       "      <td>2.830000e+02</td>\n",
       "    </tr>\n",
       "    <tr>\n",
       "      <th>nFollowers</th>\n",
       "      <td>445.0</td>\n",
       "      <td>6.539241e+04</td>\n",
       "      <td>1.370128e+04</td>\n",
       "      <td>0.000000e+00</td>\n",
       "      <td>5.515400e+04</td>\n",
       "      <td>6.570500e+04</td>\n",
       "      <td>7.694300e+04</td>\n",
       "      <td>8.620000e+04</td>\n",
       "    </tr>\n",
       "    <tr>\n",
       "      <th>nLikes</th>\n",
       "      <td>445.0</td>\n",
       "      <td>3.022656e+03</td>\n",
       "      <td>6.326907e+03</td>\n",
       "      <td>4.020000e+02</td>\n",
       "      <td>1.306000e+03</td>\n",
       "      <td>1.784000e+03</td>\n",
       "      <td>2.586000e+03</td>\n",
       "      <td>8.548400e+04</td>\n",
       "    </tr>\n",
       "  </tbody>\n",
       "</table>\n",
       "</div>"
      ],
      "text/plain": [
       "            count          mean           std           min           25%  \\\n",
       "extPostId   445.0  1.631001e+18  1.716312e+17  1.395400e+18  1.489289e+18   \n",
       "nComments   445.0  2.105843e+01  2.338950e+01  0.000000e+00  8.000000e+00   \n",
       "nFollowers  445.0  6.539241e+04  1.370128e+04  0.000000e+00  5.515400e+04   \n",
       "nLikes      445.0  3.022656e+03  6.326907e+03  4.020000e+02  1.306000e+03   \n",
       "\n",
       "                     50%           75%           max  \n",
       "extPostId   1.584500e+18  1.772617e+18  1.967171e+18  \n",
       "nComments   1.400000e+01  2.600000e+01  2.830000e+02  \n",
       "nFollowers  6.570500e+04  7.694300e+04  8.620000e+04  \n",
       "nLikes      1.784000e+03  2.586000e+03  8.548400e+04  "
      ]
     },
     "execution_count": 12,
     "metadata": {},
     "output_type": "execute_result"
    }
   ],
   "source": [
    "summary.transpose()"
   ]
  },
  {
   "cell_type": "code",
   "execution_count": 13,
   "metadata": {},
   "outputs": [
    {
     "data": {
      "text/html": [
       "<div>\n",
       "<style scoped>\n",
       "    .dataframe tbody tr th:only-of-type {\n",
       "        vertical-align: middle;\n",
       "    }\n",
       "\n",
       "    .dataframe tbody tr th {\n",
       "        vertical-align: top;\n",
       "    }\n",
       "\n",
       "    .dataframe thead th {\n",
       "        text-align: right;\n",
       "    }\n",
       "</style>\n",
       "<table border=\"1\" class=\"dataframe\">\n",
       "  <thead>\n",
       "    <tr style=\"text-align: right;\">\n",
       "      <th></th>\n",
       "      <th>extPostId</th>\n",
       "      <th>nComments</th>\n",
       "      <th>nFollowers</th>\n",
       "      <th>nLikes</th>\n",
       "    </tr>\n",
       "  </thead>\n",
       "  <tbody>\n",
       "    <tr>\n",
       "      <th>count</th>\n",
       "      <td>4.450000e+02</td>\n",
       "      <td>445.000000</td>\n",
       "      <td>445.000000</td>\n",
       "      <td>445.000000</td>\n",
       "    </tr>\n",
       "    <tr>\n",
       "      <th>mean</th>\n",
       "      <td>1.631001e+18</td>\n",
       "      <td>21.058427</td>\n",
       "      <td>65392.408989</td>\n",
       "      <td>3022.656180</td>\n",
       "    </tr>\n",
       "    <tr>\n",
       "      <th>std</th>\n",
       "      <td>1.716312e+17</td>\n",
       "      <td>23.389499</td>\n",
       "      <td>13701.284561</td>\n",
       "      <td>6326.906868</td>\n",
       "    </tr>\n",
       "    <tr>\n",
       "      <th>min</th>\n",
       "      <td>1.395400e+18</td>\n",
       "      <td>0.000000</td>\n",
       "      <td>0.000000</td>\n",
       "      <td>402.000000</td>\n",
       "    </tr>\n",
       "    <tr>\n",
       "      <th>25%</th>\n",
       "      <td>1.489289e+18</td>\n",
       "      <td>8.000000</td>\n",
       "      <td>55154.000000</td>\n",
       "      <td>1306.000000</td>\n",
       "    </tr>\n",
       "  </tbody>\n",
       "</table>\n",
       "</div>"
      ],
      "text/plain": [
       "          extPostId   nComments    nFollowers       nLikes\n",
       "count  4.450000e+02  445.000000    445.000000   445.000000\n",
       "mean   1.631001e+18   21.058427  65392.408989  3022.656180\n",
       "std    1.716312e+17   23.389499  13701.284561  6326.906868\n",
       "min    1.395400e+18    0.000000      0.000000   402.000000\n",
       "25%    1.489289e+18    8.000000  55154.000000  1306.000000"
      ]
     },
     "execution_count": 13,
     "metadata": {},
     "output_type": "execute_result"
    }
   ],
   "source": [
    "summary.head()"
   ]
  },
  {
   "cell_type": "code",
   "execution_count": 14,
   "metadata": {},
   "outputs": [
    {
     "data": {
      "text/plain": [
       "0     18\n",
       "1    160\n",
       "2     42\n",
       "3     16\n",
       "4     49\n",
       "Name: nComments, dtype: int64"
      ]
     },
     "execution_count": 14,
     "metadata": {},
     "output_type": "execute_result"
    }
   ],
   "source": [
    "data['nComments'].head()"
   ]
  },
  {
   "cell_type": "code",
   "execution_count": 15,
   "metadata": {},
   "outputs": [
    {
     "data": {
      "text/plain": [
       "(array([341.,  80.,  16.,   3.,   3.,   1.,   0.,   0.,   0.,   1.]),\n",
       " array([  0. ,  28.3,  56.6,  84.9, 113.2, 141.5, 169.8, 198.1, 226.4,\n",
       "        254.7, 283. ]),\n",
       " <a list of 10 Patch objects>)"
      ]
     },
     "execution_count": 15,
     "metadata": {},
     "output_type": "execute_result"
    },
    {
     "data": {
      "image/png": "[encoded data removed]",
      "text/plain": [
       "<Figure size 432x288 with 1 Axes>"
      ]
     },
     "metadata": {},
     "output_type": "display_data"
    }
   ],
   "source": [
    "plt.hist(data['nComments'])"
   ]
  },
  {
   "cell_type": "code",
   "execution_count": 16,
   "metadata": {},
   "outputs": [
    {
     "data": {
      "text/plain": [
       "{'whiskers': [<matplotlib.lines.Line2D at 0x1a90089dcc0>,\n",
       "  <matplotlib.lines.Line2D at 0x1a9008a4198>],\n",
       " 'caps': [<matplotlib.lines.Line2D at 0x1a9008a45c0>,\n",
       "  <matplotlib.lines.Line2D at 0x1a9008a49e8>],\n",
       " 'boxes': [<matplotlib.lines.Line2D at 0x1a90089db70>],\n",
       " 'medians': [<matplotlib.lines.Line2D at 0x1a9008a4da0>],\n",
       " 'fliers': [<matplotlib.lines.Line2D at 0x1a9008ad208>],\n",
       " 'means': []}"
      ]
     },
     "execution_count": 16,
     "metadata": {},
     "output_type": "execute_result"
    },
    {
     "data": {
      "image/png": "[encoded data removed]",
      "text/plain": [
       "<Figure size 432x288 with 1 Axes>"
      ]
     },
     "metadata": {},
     "output_type": "display_data"
    }
   ],
   "source": [
    "plt.boxplot(data['nComments'])"
   ]
  },
  {
   "cell_type": "code",
   "execution_count": 17,
   "metadata": {},
   "outputs": [
    {
     "data": {
      "text/plain": [
       "(array([  4.,   0.,   0.,   0.,   0.,  81.,  72., 120.,  60., 108.]),\n",
       " array([    0.,  8620., 17240., 25860., 34480., 43100., 51720., 60340.,\n",
       "        68960., 77580., 86200.]),\n",
       " <a list of 10 Patch objects>)"
      ]
     },
     "execution_count": 17,
     "metadata": {},
     "output_type": "execute_result"
    },
    {
     "data": {
      "image/png": "[encoded data removed]",
      "text/plain": [
       "<Figure size 432x288 with 1 Axes>"
      ]
     },
     "metadata": {},
     "output_type": "display_data"
    }
   ],
   "source": [
    "plt.hist(data['nFollowers'])"
   ]
  },
  {
   "cell_type": "code",
   "execution_count": 18,
   "metadata": {},
   "outputs": [
    {
     "data": {
      "text/plain": [
       "{'whiskers': [<matplotlib.lines.Line2D at 0x1a900946fd0>,\n",
       "  <matplotlib.lines.Line2D at 0x1a9009514a8>],\n",
       " 'caps': [<matplotlib.lines.Line2D at 0x1a9009518d0>,\n",
       "  <matplotlib.lines.Line2D at 0x1a900951cf8>],\n",
       " 'boxes': [<matplotlib.lines.Line2D at 0x1a900946e80>],\n",
       " 'medians': [<matplotlib.lines.Line2D at 0x1a900956160>],\n",
       " 'fliers': [<matplotlib.lines.Line2D at 0x1a900956588>],\n",
       " 'means': []}"
      ]
     },
     "execution_count": 18,
     "metadata": {},
     "output_type": "execute_result"
    },
    {
     "data": {
      "image/png": "[encoded data removed]",
      "text/plain": [
       "<Figure size 432x288 with 1 Axes>"
      ]
     },
     "metadata": {},
     "output_type": "display_data"
    }
   ],
   "source": [
    "plt.boxplot(data['nFollowers'])"
   ]
  },
  {
   "cell_type": "code",
   "execution_count": 19,
   "metadata": {},
   "outputs": [
    {
     "data": {
      "text/plain": [
       "(array([425.,   7.,   8.,   1.,   1.,   2.,   0.,   0.,   0.,   1.]),\n",
       " array([  402. ,  8910.2, 17418.4, 25926.6, 34434.8, 42943. , 51451.2,\n",
       "        59959.4, 68467.6, 76975.8, 85484. ]),\n",
       " <a list of 10 Patch objects>)"
      ]
     },
     "execution_count": 19,
     "metadata": {},
     "output_type": "execute_result"
    },
    {
     "data": {
      "image/png": "[encoded data removed]",
      "text/plain": [
       "<Figure size 432x288 with 1 Axes>"
      ]
     },
     "metadata": {},
     "output_type": "display_data"
    }
   ],
   "source": [
    "plt.hist(data['nLikes'])"
   ]
  },
  {
   "cell_type": "code",
   "execution_count": 20,
   "metadata": {},
   "outputs": [
    {
     "data": {
      "text/plain": [
       "{'whiskers': [<matplotlib.lines.Line2D at 0x1a9009fc3c8>,\n",
       "  <matplotlib.lines.Line2D at 0x1a9009fc860>],\n",
       " 'caps': [<matplotlib.lines.Line2D at 0x1a9009fcc88>,\n",
       "  <matplotlib.lines.Line2D at 0x1a900a030f0>],\n",
       " 'boxes': [<matplotlib.lines.Line2D at 0x1a9009fc278>],\n",
       " 'medians': [<matplotlib.lines.Line2D at 0x1a900a03518>],\n",
       " 'fliers': [<matplotlib.lines.Line2D at 0x1a900a03940>],\n",
       " 'means': []}"
      ]
     },
     "execution_count": 20,
     "metadata": {},
     "output_type": "execute_result"
    },
    {
     "data": {
      "image/png": "[encoded data removed]",
      "text/plain": [
       "<Figure size 432x288 with 1 Axes>"
      ]
     },
     "metadata": {},
     "output_type": "display_data"
    }
   ],
   "source": [
    "plt.boxplot(data['nLikes'])"
   ]
  },
  {
   "cell_type": "code",
   "execution_count": 21,
   "metadata": {},
   "outputs": [
    {
     "data": {
      "image/png": "[encoded data removed]",
      "text/plain": [
       "<Figure size 432x288 with 1 Axes>"
      ]
     },
     "metadata": {},
     "output_type": "display_data"
    }
   ],
   "source": [
    "stats.probplot(data['nFollowers'], dist=\"norm\", plot=pylab)\n",
    "pylab.show()"
   ]
  },
  {
   "cell_type": "code",
   "execution_count": 22,
   "metadata": {},
   "outputs": [
    {
     "data": {
      "image/png": "[encoded data removed]",
      "text/plain": [
       "<Figure size 432x288 with 1 Axes>"
      ]
     },
     "metadata": {},
     "output_type": "display_data"
    }
   ],
   "source": [
    "stats.probplot(data['nLikes'], dist=\"norm\", plot=pylab)\n",
    "pylab.show()"
   ]
  },
  {
   "cell_type": "code",
   "execution_count": 23,
   "metadata": {},
   "outputs": [
    {
     "data": {
      "image/png": "[encoded data removed]",
      "text/plain": [
       "<Figure size 432x288 with 1 Axes>"
      ]
     },
     "metadata": {},
     "output_type": "display_data"
    }
   ],
   "source": [
    "stats.probplot(data['nComments'], dist=\"norm\", plot=pylab)\n",
    "pylab.show()"
   ]
  },
  {
   "cell_type": "code",
   "execution_count": null,
   "metadata": {},
   "outputs": [],
   "source": []
  }
 ],
 "metadata": {
  "kernelspec": {
   "display_name": "Python 3",
   "language": "python",
   "name": "python3"
  },
  "language_info": {
   "codemirror_mode": {
    "name": "ipython",
    "version": 3
   },
   "file_extension": ".py",
   "mimetype": "text/x-python",
   "name": "python",
   "nbconvert_exporter": "python",
   "pygments_lexer": "ipython3",
   "version": "3.6.5"
  }
 },
 "nbformat": 4,
 "nbformat_minor": 2
}
