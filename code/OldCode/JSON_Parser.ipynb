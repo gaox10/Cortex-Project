{
 "cells": [
  {
   "cell_type": "code",
   "execution_count": 1,
   "metadata": {},
   "outputs": [],
   "source": [
    "#Importing all Packages\n",
    "import json as json\n",
    "import pandas as pd\n",
    "import numpy as np\n",
    "from pandas.io.json import json_normalize\n",
    "import csv\n",
    "import seaborn as sns\n",
    "import datetime"
   ]
  },
  {
   "cell_type": "code",
   "execution_count": 2,
   "metadata": {
    "scrolled": true
   },
   "outputs": [],
   "source": [
    "#Opening data and loading JSON\n",
    "with open ('visit_utah_updated_01_19.json', mode='r', encoding='utf-8') as read_file:\n",
    "    data = json.loads(read_file.read(), encoding = 'utf-8') "
   ]
  },
  {
   "cell_type": "code",
   "execution_count": 3,
   "metadata": {},
   "outputs": [],
   "source": [
    "#Read in CSV if desired\n",
    "data1 = pd.read_csv('utahdata.csv')"
   ]
  },
  {
   "cell_type": "code",
   "execution_count": 4,
   "metadata": {},
   "outputs": [],
   "source": [
    "#Normalizing JSON data using build in python function\n",
    "df = json_normalize(data)"
   ]
  },
  {
   "cell_type": "code",
   "execution_count": 5,
   "metadata": {},
   "outputs": [
    {
     "data": {
      "text/plain": [
       "['CreatedDT',\n",
       " 'extPostId',\n",
       " 'hashtags',\n",
       " 'colors',\n",
       " 'Objects',\n",
       " 'pHash',\n",
       " 'Tags',\n",
       " 'Height',\n",
       " 'Width',\n",
       " 'Keywords',\n",
       " 'language',\n",
       " 'nComments',\n",
       " 'nFollowers',\n",
       " 'nLikes',\n",
       " 'pageName',\n",
       " 'postLink',\n",
       " 'rawText']"
      ]
     },
     "execution_count": 5,
     "metadata": {},
     "output_type": "execute_result"
    }
   ],
   "source": [
    "#Rename to shorten columns. Print list of column names to use\n",
    "df = df.rename(index=str, columns={\"metadata.hashtags\": \"hashtags\", \"metadata.imageColors\": \"colors\", \"metadata.imagePHash\": \"pHash\", \"extCreatedAt\": \"CreatedDT\", \"metadata.imageObjects\": \"Objects\", \"metadata.imageTags\": \"Tags\", \"metadata.imgHeight\": \"Height\", \"metadata.imgWidth\": \"Width\", \"metadata.keywords\": \"Keywords\", \"metadata.language\": \"language\"})\n",
    "list(df)"
   ]
  },
  {
   "cell_type": "code",
   "execution_count": 6,
   "metadata": {},
   "outputs": [],
   "source": [
    "#Engagement metric calculation\n",
    "df['engagement_rate'] = ((df['nComments'] + df['nLikes']) / df['nFollowers']) * 100"
   ]
  },
  {
   "cell_type": "code",
   "execution_count": 7,
   "metadata": {},
   "outputs": [],
   "source": [
    "df['date_series'] = pd.to_datetime(df['CreatedDT'])\n",
    "df['yearofpost'] = df['date_series'].dt.year\n",
    "df['monthofpost'] = df['date_series'].dt.month\n",
    "df['hourofpost'] = df['date_series'].dt.hour\n",
    "df['quarterofpost'] = df['date_series'].dt.quarter"
   ]
  },
  {
   "cell_type": "code",
   "execution_count": 8,
   "metadata": {},
   "outputs": [],
   "source": [
    "#Hashtag work: Expand out hashtags from list to work on them. Each hashtag will go into its own column\n",
    "\n",
    "# expand df.tags into its own dataframe\n",
    "tags = df['hashtags'].apply(pd.Series)\n",
    "# rename each variable is tags\n",
    "tags = tags.rename(columns = lambda x : 'hashtag_' + str(x))\n",
    "# join the tags dataframe back to the original dataframe\n",
    "df = pd.concat([df[:], tags[:]], axis=1)"
   ]
  },
  {
   "cell_type": "code",
   "execution_count": 9,
   "metadata": {},
   "outputs": [
    {
     "name": "stderr",
     "output_type": "stream",
     "text": [
      "C:\\Users\\Dominick\\Anaconda3Install\\lib\\site-packages\\pandas\\core\\indexes\\api.py:57: RuntimeWarning: '<' not supported between instances of 'int' and 'str', sort order is undefined for incomparable objects\n",
      "  union = _union_indexes(indexes)\n",
      "C:\\Users\\Dominick\\Anaconda3Install\\lib\\site-packages\\pandas\\core\\indexes\\api.py:87: RuntimeWarning: '<' not supported between instances of 'int' and 'str', sort order is undefined for incomparable objects\n",
      "  result = result.union(other)\n"
     ]
    }
   ],
   "source": [
    "#Object work: Expand out object from list to work on them. Each object will go into its own column\n",
    "\n",
    "# expand df.tags into its own dataframe\n",
    "tags = df['Objects'].apply(pd.Series)\n",
    "# rename each variable is tags\n",
    "tags = tags.rename(columns = lambda x : 'object_' + str(x))\n",
    "\n",
    "#Dict to columns this needs a loop bu I can't figure it out\n",
    "tag1 = tags['object_0'].apply(pd.Series)\n",
    "tag1 = tag1.rename(columns = lambda x : 'object_0_' + str(x))\n",
    "df = pd.concat([df[:], tag1[:]], axis=1)\n",
    "tag1 = tags['object_1'].apply(pd.Series)\n",
    "tag1 = tag1.rename(columns = lambda x : 'object_1_' + str(x))\n",
    "df = pd.concat([df[:], tag1[:]], axis=1)\n",
    "tag1 = tags['object_2'].apply(pd.Series)\n",
    "tag1 = tag1.rename(columns = lambda x : 'object_2_' + str(x))\n",
    "df = pd.concat([df[:], tag1[:]], axis=1)\n",
    "tag1 = tags['object_3'].apply(pd.Series)\n",
    "tag1 = tag1.rename(columns = lambda x : 'object_3_' + str(x))\n",
    "df = pd.concat([df[:], tag1[:]], axis=1)\n",
    "tag1 = tags['object_4'].apply(pd.Series)\n",
    "tag1 = tag1.rename(columns = lambda x : 'object_4_' + str(x))\n",
    "df = pd.concat([df[:], tag1[:]], axis=1)\n",
    "tag1 = tags['object_5'].apply(pd.Series)\n",
    "tag1 = tag1.rename(columns = lambda x : 'object_5_' + str(x))\n",
    "df = pd.concat([df[:], tag1[:]], axis=1)\n",
    "tag1 = tags['object_6'].apply(pd.Series)\n",
    "tag1 = tag1.rename(columns = lambda x : 'object_6_' + str(x))\n",
    "df = pd.concat([df[:], tag1[:]], axis=1)\n",
    "tag1 = tags['object_7'].apply(pd.Series)\n",
    "tag1 = tag1.rename(columns = lambda x : 'object_7_' + str(x))\n",
    "df = pd.concat([df[:], tag1[:]], axis=1)\n",
    "tag1 = tags['object_8'].apply(pd.Series)\n",
    "tag1 = tag1.rename(columns = lambda x : 'object_8_' + str(x))\n",
    "df = pd.concat([df[:], tag1[:]], axis=1)\n",
    "tag1 = tags['object_9'].apply(pd.Series)\n",
    "tag1 = tag1.rename(columns = lambda x : 'object_9_' + str(x))\n",
    "df = pd.concat([df[:], tag1[:]], axis=1)\n",
    "tag1 = tags['object_10'].apply(pd.Series)\n",
    "tag1 = tag1.rename(columns = lambda x : 'object_10_' + str(x))\n",
    "df = pd.concat([df[:], tag1[:]], axis=1)"
   ]
  },
  {
   "cell_type": "code",
   "execution_count": 10,
   "metadata": {},
   "outputs": [],
   "source": [
    "#Colors work: Expand out colors from list to work on them. Each colors will go into its own column\n",
    "\n",
    "# expand df.tags into its own dataframe\n",
    "tags = df['colors'].apply(pd.Series)\n",
    "# rename each variable is tags\n",
    "tags = tags.rename(columns = lambda x : 'colors_' + str(x))\n",
    "\n",
    "#Dict to columns this needs a loop but I can't figure it out\n",
    "tag1 = tags['colors_0'].apply(pd.Series)\n",
    "tag1 = tag1.rename(columns = lambda x : 'colors_0_' + str(x))\n",
    "df = pd.concat([df[:], tag1[:]], axis=1)"
   ]
  },
  {
   "cell_type": "code",
   "execution_count": 11,
   "metadata": {},
   "outputs": [
    {
     "data": {
      "text/plain": [
       "['CreatedDT',\n",
       " 'extPostId',\n",
       " 'hashtags',\n",
       " 'colors',\n",
       " 'Objects',\n",
       " 'pHash',\n",
       " 'Tags',\n",
       " 'Height',\n",
       " 'Width',\n",
       " 'Keywords',\n",
       " 'language',\n",
       " 'nComments',\n",
       " 'nFollowers',\n",
       " 'nLikes',\n",
       " 'pageName',\n",
       " 'postLink',\n",
       " 'rawText',\n",
       " 'engagement_rate',\n",
       " 'date_series',\n",
       " 'yearofpost',\n",
       " 'monthofpost',\n",
       " 'hourofpost',\n",
       " 'quarterofpost',\n",
       " 'hashtag_0',\n",
       " 'hashtag_1',\n",
       " 'hashtag_2',\n",
       " 'hashtag_3',\n",
       " 'hashtag_4',\n",
       " 'hashtag_5',\n",
       " 'hashtag_6',\n",
       " 'hashtag_7',\n",
       " 'hashtag_8',\n",
       " 'hashtag_9',\n",
       " 'hashtag_10',\n",
       " 'hashtag_11',\n",
       " 'hashtag_12',\n",
       " 'hashtag_13',\n",
       " 'object_0_conf',\n",
       " 'object_0_name',\n",
       " 'object_0_vertexes',\n",
       " 'object_0_0',\n",
       " 'object_1_conf',\n",
       " 'object_1_name',\n",
       " 'object_1_vertexes',\n",
       " 'object_1_0',\n",
       " 'object_2_conf',\n",
       " 'object_2_name',\n",
       " 'object_2_vertexes',\n",
       " 'object_2_0',\n",
       " 'object_3_conf',\n",
       " 'object_3_name',\n",
       " 'object_3_vertexes',\n",
       " 'object_3_0',\n",
       " 'object_4_conf',\n",
       " 'object_4_name',\n",
       " 'object_4_vertexes',\n",
       " 'object_4_0',\n",
       " 'object_5_conf',\n",
       " 'object_5_name',\n",
       " 'object_5_vertexes',\n",
       " 'object_5_0',\n",
       " 'object_6_conf',\n",
       " 'object_6_name',\n",
       " 'object_6_vertexes',\n",
       " 'object_6_0',\n",
       " 'object_7_conf',\n",
       " 'object_7_name',\n",
       " 'object_7_vertexes',\n",
       " 'object_7_0',\n",
       " 'object_8_conf',\n",
       " 'object_8_name',\n",
       " 'object_8_vertexes',\n",
       " 'object_8_0',\n",
       " 'object_9_conf',\n",
       " 'object_9_name',\n",
       " 'object_9_vertexes',\n",
       " 'object_9_0',\n",
       " 'object_10_conf',\n",
       " 'object_10_name',\n",
       " 'object_10_vertexes',\n",
       " 'object_10_0',\n",
       " 'colors_0_color',\n",
       " 'colors_0_confidence',\n",
       " 'colors_0_value']"
      ]
     },
     "execution_count": 11,
     "metadata": {},
     "output_type": "execute_result"
    }
   ],
   "source": [
    "list(df)"
   ]
  },
  {
   "cell_type": "code",
   "execution_count": 12,
   "metadata": {},
   "outputs": [],
   "source": [
    "#See if the PageName is one of the hashtags (1 if true, 0 if not). \n",
    "#Get list of page names\n",
    "PageNames = df['pageName'].unique()\n",
    "#Use conditions for all hashtag columns, create a new column and assign values 1 if true, 0 if false\n",
    "conditions = [\n",
    "    (df['hashtag_0'].isin(PageNames)),\n",
    "    (df['hashtag_1'].isin(PageNames)),\n",
    "    (df['hashtag_2'].isin(PageNames)),\n",
    "    (df['hashtag_3'].isin(PageNames)),\n",
    "    (df['hashtag_4'].isin(PageNames)),\n",
    "    (df['hashtag_5'].isin(PageNames)),\n",
    "    (df['hashtag_6'].isin(PageNames)),\n",
    "    (df['hashtag_7'].isin(PageNames)),\n",
    "    (df['hashtag_8'].isin(PageNames)),\n",
    "    (df['hashtag_9'].isin(PageNames)),\n",
    "    (df['hashtag_10'].isin(PageNames)),\n",
    "    (df['hashtag_11'].isin(PageNames)),\n",
    "    (df['hashtag_12'].isin(PageNames)),\n",
    "    (df['hashtag_13'].isin(PageNames))]\n",
    "choices = [1, 1, 1, 1, 1, 1, 1, 1, 1, 1, 1, 1, 1, 1]\n",
    "df['hashtag_pagename'] = np.select(conditions, choices, default=0)"
   ]
  },
  {
   "cell_type": "code",
   "execution_count": 13,
   "metadata": {},
   "outputs": [],
   "source": [
    "#See if the this post is related to the Christmas/holiday season\n",
    "#Create a list of possible Christmas/holiday hasthags\n",
    "Holiday = ['santa', 'christmas', 'holiday', 'happyholidays', 'merrychristmas', 'winterwonderland', 'happynewyear', 'newyear', 'holidaycelebration', 'giving', 'holidayvacation', 'presents', 'christmaseve', 'christmasday', 'newyearseve', 'newyearsday']\n",
    "#Use conditions for all hashtag columns, create a new column and assign values 1 if true, 0 if false\n",
    "conditions = [\n",
    "    (df['hashtag_0'].isin(Holiday)),\n",
    "    (df['hashtag_1'].isin(Holiday)),\n",
    "    (df['hashtag_2'].isin(Holiday)),\n",
    "    (df['hashtag_3'].isin(Holiday)),\n",
    "    (df['hashtag_4'].isin(Holiday)),\n",
    "    (df['hashtag_5'].isin(Holiday)),\n",
    "    (df['hashtag_6'].isin(Holiday)),\n",
    "    (df['hashtag_7'].isin(Holiday)),\n",
    "    (df['hashtag_8'].isin(Holiday)),\n",
    "    (df['hashtag_9'].isin(Holiday)),\n",
    "    (df['hashtag_10'].isin(Holiday)),\n",
    "    (df['hashtag_11'].isin(Holiday)),\n",
    "    (df['hashtag_12'].isin(Holiday)),\n",
    "    (df['hashtag_13'].isin(Holiday))]\n",
    "choices = [1, 1, 1, 1, 1, 1, 1, 1, 1, 1, 1, 1, 1, 1]\n",
    "df['hashtag_holidayseason'] = np.select(conditions, choices, default=0)"
   ]
  },
  {
   "cell_type": "code",
   "execution_count": 14,
   "metadata": {},
   "outputs": [],
   "source": [
    "#Winter Sports Hashtags: See if this post is realted to winter sports\n",
    "#Create a list of possible winter sport hasthags\n",
    "WinterSports = ['skiing', 'snowmodile', 'ski', 'skiutah', 'skicolorado', 'mountains', 'snow', 'powder', 'sleding', 'wintersports', 'skivermont', 'internationalmountainday']\n",
    "#Use conditions for all hashtag columns, create a new column and assign values 1 if true, 0 if false\n",
    "conditions = [\n",
    "    (df['hashtag_0'].isin(WinterSports)),\n",
    "    (df['hashtag_1'].isin(WinterSports)),\n",
    "    (df['hashtag_2'].isin(WinterSports)),\n",
    "    (df['hashtag_3'].isin(WinterSports)),\n",
    "    (df['hashtag_4'].isin(WinterSports)),\n",
    "    (df['hashtag_5'].isin(WinterSports)),\n",
    "    (df['hashtag_6'].isin(WinterSports)),\n",
    "    (df['hashtag_7'].isin(WinterSports)),\n",
    "    (df['hashtag_8'].isin(WinterSports)),\n",
    "    (df['hashtag_9'].isin(WinterSports)),\n",
    "    (df['hashtag_10'].isin(WinterSports)),\n",
    "    (df['hashtag_11'].isin(WinterSports)),\n",
    "    (df['hashtag_12'].isin(WinterSports)),\n",
    "    (df['hashtag_13'].isin(WinterSports))]\n",
    "choices = [1, 1, 1, 1, 1, 1, 1, 1, 1, 1, 1, 1, 1, 1]\n",
    "df['hashtag_wintersports'] = np.select(conditions, choices, default=0)"
   ]
  },
  {
   "cell_type": "code",
   "execution_count": 23,
   "metadata": {},
   "outputs": [
    {
     "data": {
      "image/png": "[encoded data removed]",
      "text/plain": [
       "<matplotlib.figure.Figure at 0xdafe977400>"
      ]
     },
     "metadata": {},
     "output_type": "display_data"
    }
   ],
   "source": [
    "#Pivot and HeatMap\n",
    "#Based only on Month and Year\n",
    "MonthandYear = pd.pivot_table(df, values='engagement_rate',index='monthofpost', columns='yearofpost')\n",
    "ax1 = sns.heatmap(MonthandYear)"
   ]
  },
  {
   "cell_type": "code",
   "execution_count": 26,
   "metadata": {},
   "outputs": [
    {
     "data": {
      "image/png": "[encoded data removed]",
      "text/plain": [
       "<matplotlib.figure.Figure at 0xdafeadad68>"
      ]
     },
     "metadata": {},
     "output_type": "display_data"
    }
   ],
   "source": [
    "#Pivot and HeatMap\n",
    "#Based on Year and Wintersport Hashtag\n",
    "WinterSport = pd.pivot_table(df, values='engagement_rate',index='yearofpost', columns='hashtag_wintersports')\n",
    "ax1 = sns.heatmap(WinterSport)"
   ]
  },
  {
   "cell_type": "code",
   "execution_count": null,
   "metadata": {},
   "outputs": [],
   "source": []
  }
 ],
 "metadata": {
  "kernelspec": {
   "display_name": "Python 3",
   "language": "python",
   "name": "python3"
  },
  "language_info": {
   "codemirror_mode": {
    "name": "ipython",
    "version": 3
   },
   "file_extension": ".py",
   "mimetype": "text/x-python",
   "name": "python",
   "nbconvert_exporter": "python",
   "pygments_lexer": "ipython3",
   "version": "3.6.4"
  }
 },
 "nbformat": 4,
 "nbformat_minor": 2
}
